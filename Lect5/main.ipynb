{
 "cells": [
  {
   "cell_type": "markdown",
   "metadata": {},
   "source": [
    "## Lecture 5: Classification with perceptron model"
   ]
  },
  {
   "cell_type": "code",
   "execution_count": 42,
   "metadata": {},
   "outputs": [],
   "source": [
    "%matplotlib inline\n",
    "import os\n",
    "from tqdm import tqdm\n",
    "import time\n",
    "import pickle\n",
    "import numpy as np\n",
    "from matplotlib import pyplot as plt\n",
    "import torch\n",
    "from torch import nn\n",
    "from torchvision import datasets\n",
    "from torch.utils.data import DataLoader, TensorDataset\n",
    "import torch.nn.functional as function\n",
    "\n",
    "save_path = './'"
   ]
  },
  {
   "cell_type": "code",
   "execution_count": 43,
   "metadata": {},
   "outputs": [],
   "source": [
    "with open('../bin/slp/test_features.pckl', 'rb') as f:\n",
    "\ttest_features = pickle.load(f)\n",
    "with open('../bin/slp/test_label.pckl', 'rb') as f:\n",
    "\ttest_label = pickle.load(f)\n",
    "with open('../bin/slp/train_features.pckl', 'rb') as f:\n",
    "\ttrain_features = pickle.load(f)\n",
    "with open('../bin/slp/train_label.pckl', 'rb') as f:\n",
    "\ttrain_label= pickle.load(f)"
   ]
  },
  {
   "cell_type": "code",
   "execution_count": 44,
   "metadata": {},
   "outputs": [],
   "source": [
    "# Defining a Perceptron\n",
    "\n",
    "class perceptron(nn.Module):\n",
    "\tdef __init__(self, n_channels):\n",
    "\t\tsuper(perceptron, self).__init__()\n",
    "\t\tself.L = nn.Linear(n_channels, 10)\n",
    "\tdef forward(self, x):\n",
    "\t\tx = self.L(x)\n",
    "\t\tx = function.softmax(x) \n",
    "\t\treturn x\n"
   ]
  },
  {
   "cell_type": "code",
   "execution_count": 45,
   "metadata": {},
   "outputs": [],
   "source": [
    "# Generating 1-hot label encoding\n",
    "train_label_1hot = np.zeros((50000, 10))\n",
    "test_label_1hot = np.zeros((10000, 10))\n",
    "for d1 in range(train_label.shape[0]):\n",
    "\ttrain_label_1hot[d1, train_label[d1]] = 1\n",
    "for d2 in range(test_label.shape[0]):\n",
    "\ttest_label_1hot[d2, test_label[d2]] = 1"
   ]
  },
  {
   "cell_type": "code",
   "execution_count": 46,
   "metadata": {},
   "outputs": [
    {
     "name": "stdout",
     "output_type": "stream",
     "text": [
      "GPU is available!\n"
     ]
    }
   ],
   "source": [
    "use_gpu = torch.cuda.is_available()\n",
    "if use_gpu:\n",
    "\tprint('GPU is available!')\n",
    "\tpin_mem = True\n",
    "\tdevice = \"cuda\"\n",
    "else :\n",
    "\tprint('GPU is not available!')\n",
    "\tpin_mem = False\n",
    "\tdevice = \"cpu\""
   ]
  },
  {
   "cell_type": "code",
   "execution_count": 47,
   "metadata": {},
   "outputs": [],
   "source": [
    "# creating TensorDataset\n",
    "train_dataset = TensorDataset(torch.from_numpy(train_features), torch.from_numpy(train_label_1hot))\n",
    "test_dataset = TensorDataset(torch.from_numpy(test_features), torch.from_numpy(test_label_1hot))\n",
    "\n",
    "# creating DataLoader\n",
    "train_dataloader = DataLoader(train_dataset, num_workers= 4, batch_size= 64, shuffle=True, pin_memory=pin_mem)\n",
    "test_dataloader = DataLoader(test_dataset, num_workers= 4, batch_size= 64, shuffle=False, pin_memory=pin_mem)"
   ]
  },
  {
   "cell_type": "markdown",
   "metadata": {},
   "source": [
    "## Defining function for training the network"
   ]
  },
  {
   "cell_type": "code",
   "execution_count": null,
   "metadata": {},
   "outputs": [],
   "source": [
    "# defining the training model\n",
    "def train_model(model, criterion, num_epochs, learning_rate):\n",
    "\tstart = time.time()\n",
    "\ttrain_loss = []\n",
    "\ttrain_accuracy = []\n",
    "\ttemp_labels = []\n",
    "\tfor epoch in range(num_epochs):\n",
    "\t\tepoch_start_time = time.time()\n",
    "\t\tprint('epoch {}/{}' .format(epoch, num_epochs+1))\n",
    "\n",
    "\t\trunning_loss = 0.0\n",
    "\t\tbatch = 0\n",
    "\t\tfor data in tqdm(train_dataloader):\n",
    "\t\t\tinputs, labels = data\n",
    "\t\t\tinputs, labels = inputs.float().to(device), labels.float().to(device)\n",
    "\n",
    "\t\t\t#initializing model gradient to zero\n",
    "\t\t\tmodel.zero_grad()\n",
    "\t\t\t# data feed forward through network\n",
    "\t\t\toutput = model(inputs)\n",
    "\t\t\t# predicted class is the one class with maximum probability\n",
    "\t\t\t_, prediction = output.data.max(1)\n",
    "\t\t\t# finding the Mean Squared Error MSE\n",
    "\t\t\tloss = criterion(output, labels)\n",
    "\t\t\t# Accumulating loss of each batch\n",
    "\t\t\trunning_loss += loss.item()\n",
    "\n",
    "\t\t\t# backpropogating the error\n",
    "\t\t\tif batch == 0:\n",
    "\t\t\t\ttotal_loss = loss\n",
    "\t\t\t\ttotal_prediction = prediction\n",
    "\t\t\t\ttemp_labels = labels.data.cpu()\n",
    "\t\t\t\tbatch+=1\n",
    "\t\t\telse:\n",
    "\t\t\t\ttotal_loss += loss\n",
    "\t\t\t\ttotal_prediction = torch.cat((torch.Tensor(total_prediction), torch.Tensor(prediction)), 0)\n",
    "\t\t\t\ttemp_labels = torch.cat((torch.Tensor(temp_labels), torch.Tensor(labels.data.cpu())), 0)\n",
    "\t\t\t\tbatch+=1\n",
    "\t\t\t\n",
    "\t\ttotal_loss = total_loss/batch\n",
    "\t\ttotal_loss.backward(retain_graph=True)\n",
    "\n",
    "\t\t# for updating the model parameters\n",
    "\t\tfor f in model.parameters():\n",
    "\t\t\tf.data.sub_(f.grad.data * learning_rate)\n",
    "\n",
    "\t\tepoch_loss = running_loss/50000\n",
    "\t\ttrain_loss.append(epoch_loss)\n",
    "\n",
    "\t\t# accuracy per epoch \n",
    "\t\ttemp_labels = temp_labels.numpy()\n",
    "\t\t_, total_labels = np.where(temp_labels == 1)\n",
    "\t\tepoch_accuracy = np.sum(np.equal(total_prediction.cpu().numpy(), np.array(total_labels)))/50000.0\n",
    "\t\ttrain_accuracy.append(float(epoch_accuracy*100))\n",
    "\n",
    "\t\tepoch_time_end = time.time() - epoch_start_time\n",
    "\t\tprint('average epoch loss: {:.6f}'.format(epoch_loss))\n",
    "\t\tprint('average epoch accuracy: {:.6f} %'.format(epoch_accuracy*100))\n",
    "\t\tprint('-' * 25)\n",
    "\n",
    "\t\t# plotting loss vs epoch\n",
    "\t\tfig1 = plt.figure(1)\n",
    "\t\tplt.plot(range(epoch+1),train_loss,'r--',label='train')\n",
    "\t\tif epoch == 0:\n",
    "\t\t\tplt.legend(loc='upper right')\n",
    "\t\t\tplt.xlabel('Epoch')\n",
    "\t\t\tplt.ylabel('Loss')\n",
    "\t\t\tplt.title('plot of training loss vs epoch')\n",
    "\t\tfig1.savefig(save_path+'loss_plot.png')\n",
    "\n",
    "\t\t#plotting accuracy vs epoch\n",
    "\t\tfig2 = plt.figure(2)\n",
    "\t\tplt.plot(range(epoch+1),train_accuracy,'g--',label='train')\n",
    "\t\tif epoch == 0:\n",
    "\t\t\tplt.legend(loc='upper left')\n",
    "\t\t\tplt.xlabel('Epoch')\n",
    "\t\t\tplt.ylabel('Accuracy')\n",
    "\t\t\tplt.title('plot of training accuracy vs epoch')\n",
    "\t\tfig2.savefig(save_path+'accuracy_plot.png')\n",
    "\ttime_elapsed = time.time() - start\n",
    "\tprint('Training complete in {:.0f}m {:.0f}s'.format(\n",
    "            time_elapsed // 60, time_elapsed % 60))\n",
    "\treturn model"
   ]
  },
  {
   "cell_type": "markdown",
   "metadata": {},
   "source": [
    "## Training the perceptron"
   ]
  },
  {
   "cell_type": "code",
   "execution_count": 53,
   "metadata": {},
   "outputs": [
    {
     "name": "stdout",
     "output_type": "stream",
     "text": [
      "epoch 0/101\n"
     ]
    },
    {
     "name": "stderr",
     "output_type": "stream",
     "text": [
      "  0%|          | 0/782 [00:00<?, ?it/s]/tmp/ipykernel_12656/3771040703.py:9: UserWarning: Implicit dimension choice for softmax has been deprecated. Change the call to include dim=X as an argument.\n",
      "  x = function.softmax(x)\n",
      "100%|██████████| 782/782 [00:01<00:00, 698.97it/s]\n"
     ]
    },
    {
     "name": "stdout",
     "output_type": "stream",
     "text": [
      "average epoch loss: 0.001425\n",
      "average epoch accuracy: 9.276000 %\n",
      "-------------------------\n",
      "epoch 1/101\n"
     ]
    },
    {
     "name": "stderr",
     "output_type": "stream",
     "text": [
      "100%|██████████| 782/782 [00:01<00:00, 673.41it/s]\n"
     ]
    },
    {
     "name": "stdout",
     "output_type": "stream",
     "text": [
      "average epoch loss: 0.001425\n",
      "average epoch accuracy: 9.264000 %\n",
      "-------------------------\n",
      "epoch 2/101\n"
     ]
    },
    {
     "name": "stderr",
     "output_type": "stream",
     "text": [
      "100%|██████████| 782/782 [00:01<00:00, 662.49it/s]\n"
     ]
    },
    {
     "name": "stdout",
     "output_type": "stream",
     "text": [
      "average epoch loss: 0.001424\n",
      "average epoch accuracy: 9.260000 %\n",
      "-------------------------\n",
      "epoch 3/101\n"
     ]
    },
    {
     "name": "stderr",
     "output_type": "stream",
     "text": [
      "100%|██████████| 782/782 [00:01<00:00, 664.46it/s]\n"
     ]
    },
    {
     "name": "stdout",
     "output_type": "stream",
     "text": [
      "average epoch loss: 0.001424\n",
      "average epoch accuracy: 9.270000 %\n",
      "-------------------------\n",
      "epoch 4/101\n"
     ]
    },
    {
     "name": "stderr",
     "output_type": "stream",
     "text": [
      "100%|██████████| 782/782 [00:01<00:00, 679.80it/s]\n"
     ]
    },
    {
     "name": "stdout",
     "output_type": "stream",
     "text": [
      "average epoch loss: 0.001424\n",
      "average epoch accuracy: 9.260000 %\n",
      "-------------------------\n",
      "epoch 5/101\n"
     ]
    },
    {
     "name": "stderr",
     "output_type": "stream",
     "text": [
      "100%|██████████| 782/782 [00:01<00:00, 711.03it/s]\n"
     ]
    },
    {
     "name": "stdout",
     "output_type": "stream",
     "text": [
      "average epoch loss: 0.001424\n",
      "average epoch accuracy: 9.242000 %\n",
      "-------------------------\n",
      "epoch 6/101\n"
     ]
    },
    {
     "name": "stderr",
     "output_type": "stream",
     "text": [
      "100%|██████████| 782/782 [00:01<00:00, 706.63it/s]\n"
     ]
    },
    {
     "name": "stdout",
     "output_type": "stream",
     "text": [
      "average epoch loss: 0.001424\n",
      "average epoch accuracy: 9.228000 %\n",
      "-------------------------\n",
      "epoch 7/101\n"
     ]
    },
    {
     "name": "stderr",
     "output_type": "stream",
     "text": [
      "100%|██████████| 782/782 [00:01<00:00, 624.88it/s]\n"
     ]
    },
    {
     "name": "stdout",
     "output_type": "stream",
     "text": [
      "average epoch loss: 0.001424\n",
      "average epoch accuracy: 9.198000 %\n",
      "-------------------------\n",
      "epoch 8/101\n"
     ]
    },
    {
     "name": "stderr",
     "output_type": "stream",
     "text": [
      "100%|██████████| 782/782 [00:01<00:00, 663.90it/s]\n"
     ]
    },
    {
     "name": "stdout",
     "output_type": "stream",
     "text": [
      "average epoch loss: 0.001424\n",
      "average epoch accuracy: 9.194000 %\n",
      "-------------------------\n",
      "epoch 9/101\n"
     ]
    },
    {
     "name": "stderr",
     "output_type": "stream",
     "text": [
      "100%|██████████| 782/782 [00:01<00:00, 641.29it/s]\n"
     ]
    },
    {
     "name": "stdout",
     "output_type": "stream",
     "text": [
      "average epoch loss: 0.001424\n",
      "average epoch accuracy: 9.190000 %\n",
      "-------------------------\n",
      "epoch 10/101\n"
     ]
    },
    {
     "name": "stderr",
     "output_type": "stream",
     "text": [
      "100%|██████████| 782/782 [00:01<00:00, 659.43it/s]\n"
     ]
    },
    {
     "name": "stdout",
     "output_type": "stream",
     "text": [
      "average epoch loss: 0.001423\n",
      "average epoch accuracy: 9.192000 %\n",
      "-------------------------\n",
      "epoch 11/101\n"
     ]
    },
    {
     "name": "stderr",
     "output_type": "stream",
     "text": [
      "100%|██████████| 782/782 [00:01<00:00, 710.10it/s]\n"
     ]
    },
    {
     "ename": "KeyboardInterrupt",
     "evalue": "",
     "output_type": "error",
     "traceback": [
      "\u001b[0;31m---------------------------------------------------------------------------\u001b[0m",
      "\u001b[0;31mKeyboardInterrupt\u001b[0m                         Traceback (most recent call last)",
      "Cell \u001b[0;32mIn[53], line 5\u001b[0m\n\u001b[1;32m      3\u001b[0m model \u001b[38;5;241m=\u001b[39m perceptron(featLength)\u001b[38;5;241m.\u001b[39mto(device)\n\u001b[1;32m      4\u001b[0m criterion \u001b[38;5;241m=\u001b[39m nn\u001b[38;5;241m.\u001b[39mMSELoss() \n\u001b[0;32m----> 5\u001b[0m model \u001b[38;5;241m=\u001b[39m \u001b[43mtrain_model\u001b[49m\u001b[43m(\u001b[49m\u001b[43mmodel\u001b[49m\u001b[43m,\u001b[49m\u001b[43mcriterion\u001b[49m\u001b[43m,\u001b[49m\u001b[43mnum_epochs\u001b[49m\u001b[38;5;241;43m=\u001b[39;49m\u001b[38;5;241;43m100\u001b[39;49m\u001b[43m,\u001b[49m\u001b[43mlearning_rate\u001b[49m\u001b[38;5;241;43m=\u001b[39;49m\u001b[38;5;241;43m1\u001b[39;49m\u001b[43m)\u001b[49m \u001b[38;5;66;03m# Training the model\u001b[39;00m\n",
      "Cell \u001b[0;32mIn[48], line 13\u001b[0m, in \u001b[0;36mtrain_model\u001b[0;34m(model, criterion, num_epochs, learning_rate)\u001b[0m\n\u001b[1;32m     11\u001b[0m running_loss \u001b[38;5;241m=\u001b[39m \u001b[38;5;241m0.0\u001b[39m\n\u001b[1;32m     12\u001b[0m batch \u001b[38;5;241m=\u001b[39m \u001b[38;5;241m0\u001b[39m\n\u001b[0;32m---> 13\u001b[0m \u001b[43m\u001b[49m\u001b[38;5;28;43;01mfor\u001b[39;49;00m\u001b[43m \u001b[49m\u001b[43mdata\u001b[49m\u001b[43m \u001b[49m\u001b[38;5;129;43;01min\u001b[39;49;00m\u001b[43m \u001b[49m\u001b[43mtqdm\u001b[49m\u001b[43m(\u001b[49m\u001b[43mtrain_dataloader\u001b[49m\u001b[43m)\u001b[49m\u001b[43m:\u001b[49m\n\u001b[1;32m     14\u001b[0m \u001b[43m\t\u001b[49m\u001b[43minputs\u001b[49m\u001b[43m,\u001b[49m\u001b[43m \u001b[49m\u001b[43mlabels\u001b[49m\u001b[43m \u001b[49m\u001b[38;5;241;43m=\u001b[39;49m\u001b[43m \u001b[49m\u001b[43mdata\u001b[49m\n\u001b[1;32m     15\u001b[0m \u001b[43m\t\u001b[49m\u001b[43minputs\u001b[49m\u001b[43m,\u001b[49m\u001b[43m \u001b[49m\u001b[43mlabels\u001b[49m\u001b[43m \u001b[49m\u001b[38;5;241;43m=\u001b[39;49m\u001b[43m \u001b[49m\u001b[43minputs\u001b[49m\u001b[38;5;241;43m.\u001b[39;49m\u001b[43mfloat\u001b[49m\u001b[43m(\u001b[49m\u001b[43m)\u001b[49m\u001b[38;5;241;43m.\u001b[39;49m\u001b[43mto\u001b[49m\u001b[43m(\u001b[49m\u001b[43mdevice\u001b[49m\u001b[43m)\u001b[49m\u001b[43m,\u001b[49m\u001b[43m \u001b[49m\u001b[43mlabels\u001b[49m\u001b[38;5;241;43m.\u001b[39;49m\u001b[43mfloat\u001b[49m\u001b[43m(\u001b[49m\u001b[43m)\u001b[49m\u001b[38;5;241;43m.\u001b[39;49m\u001b[43mto\u001b[49m\u001b[43m(\u001b[49m\u001b[43mdevice\u001b[49m\u001b[43m)\u001b[49m\n",
      "File \u001b[0;32m~/.miniconda3/envs/dlvc/lib/python3.11/site-packages/tqdm/std.py:1181\u001b[0m, in \u001b[0;36mtqdm.__iter__\u001b[0;34m(self)\u001b[0m\n\u001b[1;32m   1178\u001b[0m time \u001b[38;5;241m=\u001b[39m \u001b[38;5;28mself\u001b[39m\u001b[38;5;241m.\u001b[39m_time\n\u001b[1;32m   1180\u001b[0m \u001b[38;5;28;01mtry\u001b[39;00m:\n\u001b[0;32m-> 1181\u001b[0m \u001b[43m    \u001b[49m\u001b[38;5;28;43;01mfor\u001b[39;49;00m\u001b[43m \u001b[49m\u001b[43mobj\u001b[49m\u001b[43m \u001b[49m\u001b[38;5;129;43;01min\u001b[39;49;00m\u001b[43m \u001b[49m\u001b[43miterable\u001b[49m\u001b[43m:\u001b[49m\n\u001b[1;32m   1182\u001b[0m \u001b[43m        \u001b[49m\u001b[38;5;28;43;01myield\u001b[39;49;00m\u001b[43m \u001b[49m\u001b[43mobj\u001b[49m\n\u001b[1;32m   1183\u001b[0m \u001b[43m        \u001b[49m\u001b[38;5;66;43;03m# Update and possibly print the progressbar.\u001b[39;49;00m\n\u001b[1;32m   1184\u001b[0m \u001b[43m        \u001b[49m\u001b[38;5;66;43;03m# Note: does not call self.update(1) for speed optimisation.\u001b[39;49;00m\n",
      "File \u001b[0;32m~/.miniconda3/envs/dlvc/lib/python3.11/site-packages/torch/utils/data/dataloader.py:708\u001b[0m, in \u001b[0;36m_BaseDataLoaderIter.__next__\u001b[0;34m(self)\u001b[0m\n\u001b[1;32m    705\u001b[0m \u001b[38;5;28;01mif\u001b[39;00m \u001b[38;5;28mself\u001b[39m\u001b[38;5;241m.\u001b[39m_sampler_iter \u001b[38;5;129;01mis\u001b[39;00m \u001b[38;5;28;01mNone\u001b[39;00m:\n\u001b[1;32m    706\u001b[0m     \u001b[38;5;66;03m# TODO(https://github.com/pytorch/pytorch/issues/76750)\u001b[39;00m\n\u001b[1;32m    707\u001b[0m     \u001b[38;5;28mself\u001b[39m\u001b[38;5;241m.\u001b[39m_reset()  \u001b[38;5;66;03m# type: ignore[call-arg]\u001b[39;00m\n\u001b[0;32m--> 708\u001b[0m data \u001b[38;5;241m=\u001b[39m \u001b[38;5;28;43mself\u001b[39;49m\u001b[38;5;241;43m.\u001b[39;49m\u001b[43m_next_data\u001b[49m\u001b[43m(\u001b[49m\u001b[43m)\u001b[49m\n\u001b[1;32m    709\u001b[0m \u001b[38;5;28mself\u001b[39m\u001b[38;5;241m.\u001b[39m_num_yielded \u001b[38;5;241m+\u001b[39m\u001b[38;5;241m=\u001b[39m \u001b[38;5;241m1\u001b[39m\n\u001b[1;32m    710\u001b[0m \u001b[38;5;28;01mif\u001b[39;00m (\n\u001b[1;32m    711\u001b[0m     \u001b[38;5;28mself\u001b[39m\u001b[38;5;241m.\u001b[39m_dataset_kind \u001b[38;5;241m==\u001b[39m _DatasetKind\u001b[38;5;241m.\u001b[39mIterable\n\u001b[1;32m    712\u001b[0m     \u001b[38;5;129;01mand\u001b[39;00m \u001b[38;5;28mself\u001b[39m\u001b[38;5;241m.\u001b[39m_IterableDataset_len_called \u001b[38;5;129;01mis\u001b[39;00m \u001b[38;5;129;01mnot\u001b[39;00m \u001b[38;5;28;01mNone\u001b[39;00m\n\u001b[1;32m    713\u001b[0m     \u001b[38;5;129;01mand\u001b[39;00m \u001b[38;5;28mself\u001b[39m\u001b[38;5;241m.\u001b[39m_num_yielded \u001b[38;5;241m>\u001b[39m \u001b[38;5;28mself\u001b[39m\u001b[38;5;241m.\u001b[39m_IterableDataset_len_called\n\u001b[1;32m    714\u001b[0m ):\n",
      "File \u001b[0;32m~/.miniconda3/envs/dlvc/lib/python3.11/site-packages/torch/utils/data/dataloader.py:1446\u001b[0m, in \u001b[0;36m_MultiProcessingDataLoaderIter._next_data\u001b[0;34m(self)\u001b[0m\n\u001b[1;32m   1443\u001b[0m \u001b[38;5;28;01melse\u001b[39;00m:\n\u001b[1;32m   1444\u001b[0m     \u001b[38;5;66;03m# no valid `self._rcvd_idx` is found (i.e., didn't break)\u001b[39;00m\n\u001b[1;32m   1445\u001b[0m     \u001b[38;5;28;01mif\u001b[39;00m \u001b[38;5;129;01mnot\u001b[39;00m \u001b[38;5;28mself\u001b[39m\u001b[38;5;241m.\u001b[39m_persistent_workers:\n\u001b[0;32m-> 1446\u001b[0m         \u001b[38;5;28;43mself\u001b[39;49m\u001b[38;5;241;43m.\u001b[39;49m\u001b[43m_shutdown_workers\u001b[49m\u001b[43m(\u001b[49m\u001b[43m)\u001b[49m\n\u001b[1;32m   1447\u001b[0m     \u001b[38;5;28;01mraise\u001b[39;00m \u001b[38;5;167;01mStopIteration\u001b[39;00m\n\u001b[1;32m   1449\u001b[0m \u001b[38;5;66;03m# Now `self._rcvd_idx` is the batch index we want to fetch\u001b[39;00m\n\u001b[1;32m   1450\u001b[0m \n\u001b[1;32m   1451\u001b[0m \u001b[38;5;66;03m# Check if the next sample has already been generated\u001b[39;00m\n",
      "File \u001b[0;32m~/.miniconda3/envs/dlvc/lib/python3.11/site-packages/torch/utils/data/dataloader.py:1564\u001b[0m, in \u001b[0;36m_MultiProcessingDataLoaderIter._shutdown_workers\u001b[0;34m(self)\u001b[0m\n\u001b[1;32m   1561\u001b[0m \u001b[38;5;66;03m# Send something to pin_memory_thread in case it is waiting\u001b[39;00m\n\u001b[1;32m   1562\u001b[0m \u001b[38;5;66;03m# so that it can wake up and check `pin_memory_thread_done_event`\u001b[39;00m\n\u001b[1;32m   1563\u001b[0m \u001b[38;5;28mself\u001b[39m\u001b[38;5;241m.\u001b[39m_worker_result_queue\u001b[38;5;241m.\u001b[39mput((\u001b[38;5;28;01mNone\u001b[39;00m, \u001b[38;5;28;01mNone\u001b[39;00m))\n\u001b[0;32m-> 1564\u001b[0m \u001b[38;5;28;43mself\u001b[39;49m\u001b[38;5;241;43m.\u001b[39;49m\u001b[43m_pin_memory_thread\u001b[49m\u001b[38;5;241;43m.\u001b[39;49m\u001b[43mjoin\u001b[49m\u001b[43m(\u001b[49m\u001b[43m)\u001b[49m\n\u001b[1;32m   1565\u001b[0m \u001b[38;5;28mself\u001b[39m\u001b[38;5;241m.\u001b[39m_worker_result_queue\u001b[38;5;241m.\u001b[39mcancel_join_thread()\n\u001b[1;32m   1566\u001b[0m \u001b[38;5;28mself\u001b[39m\u001b[38;5;241m.\u001b[39m_worker_result_queue\u001b[38;5;241m.\u001b[39mclose()\n",
      "File \u001b[0;32m~/.miniconda3/envs/dlvc/lib/python3.11/threading.py:1112\u001b[0m, in \u001b[0;36mThread.join\u001b[0;34m(self, timeout)\u001b[0m\n\u001b[1;32m   1109\u001b[0m     \u001b[38;5;28;01mraise\u001b[39;00m \u001b[38;5;167;01mRuntimeError\u001b[39;00m(\u001b[38;5;124m\"\u001b[39m\u001b[38;5;124mcannot join current thread\u001b[39m\u001b[38;5;124m\"\u001b[39m)\n\u001b[1;32m   1111\u001b[0m \u001b[38;5;28;01mif\u001b[39;00m timeout \u001b[38;5;129;01mis\u001b[39;00m \u001b[38;5;28;01mNone\u001b[39;00m:\n\u001b[0;32m-> 1112\u001b[0m     \u001b[38;5;28;43mself\u001b[39;49m\u001b[38;5;241;43m.\u001b[39;49m\u001b[43m_wait_for_tstate_lock\u001b[49m\u001b[43m(\u001b[49m\u001b[43m)\u001b[49m\n\u001b[1;32m   1113\u001b[0m \u001b[38;5;28;01melse\u001b[39;00m:\n\u001b[1;32m   1114\u001b[0m     \u001b[38;5;66;03m# the behavior of a negative timeout isn't documented, but\u001b[39;00m\n\u001b[1;32m   1115\u001b[0m     \u001b[38;5;66;03m# historically .join(timeout=x) for x<0 has acted as if timeout=0\u001b[39;00m\n\u001b[1;32m   1116\u001b[0m     \u001b[38;5;28mself\u001b[39m\u001b[38;5;241m.\u001b[39m_wait_for_tstate_lock(timeout\u001b[38;5;241m=\u001b[39m\u001b[38;5;28mmax\u001b[39m(timeout, \u001b[38;5;241m0\u001b[39m))\n",
      "File \u001b[0;32m~/.miniconda3/envs/dlvc/lib/python3.11/threading.py:1132\u001b[0m, in \u001b[0;36mThread._wait_for_tstate_lock\u001b[0;34m(self, block, timeout)\u001b[0m\n\u001b[1;32m   1129\u001b[0m     \u001b[38;5;28;01mreturn\u001b[39;00m\n\u001b[1;32m   1131\u001b[0m \u001b[38;5;28;01mtry\u001b[39;00m:\n\u001b[0;32m-> 1132\u001b[0m     \u001b[38;5;28;01mif\u001b[39;00m \u001b[43mlock\u001b[49m\u001b[38;5;241;43m.\u001b[39;49m\u001b[43macquire\u001b[49m\u001b[43m(\u001b[49m\u001b[43mblock\u001b[49m\u001b[43m,\u001b[49m\u001b[43m \u001b[49m\u001b[43mtimeout\u001b[49m\u001b[43m)\u001b[49m:\n\u001b[1;32m   1133\u001b[0m         lock\u001b[38;5;241m.\u001b[39mrelease()\n\u001b[1;32m   1134\u001b[0m         \u001b[38;5;28mself\u001b[39m\u001b[38;5;241m.\u001b[39m_stop()\n",
      "\u001b[0;31mKeyboardInterrupt\u001b[0m: "
     ]
    },
    {
     "data": {
      "image/png": "[encoded data removed]",
      "text/plain": [
       "<Figure size 640x480 with 1 Axes>"
      ]
     },
     "metadata": {},
     "output_type": "display_data"
    },
    {
     "data": {
      "image/png": "[encoded data removed]",
      "text/plain": [
       "<Figure size 640x480 with 1 Axes>"
      ]
     },
     "metadata": {},
     "output_type": "display_data"
    }
   ],
   "source": [
    "featLength = 2+5+2\n",
    "# Initilaizing the model\n",
    "model = perceptron(featLength).to(device)\n",
    "criterion = nn.MSELoss() \n",
    "model = train_model(model,criterion,num_epochs=100,learning_rate=1) # Training the model"
   ]
  },
  {
   "cell_type": "code",
   "execution_count": null,
   "metadata": {},
   "outputs": [],
   "source": []
  }
 ],
 "metadata": {
  "kernelspec": {
   "display_name": "dlvc",
   "language": "python",
   "name": "python3"
  },
  "language_info": {
   "codemirror_mode": {
    "name": "ipython",
    "version": 3
   },
   "file_extension": ".py",
   "mimetype": "text/x-python",
   "name": "python",
   "nbconvert_exporter": "python",
   "pygments_lexer": "ipython3",
   "version": "3.11.0"
  }
 },
 "nbformat": 4,
 "nbformat_minor": 2
}
