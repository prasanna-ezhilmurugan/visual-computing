{
 "cells": [
  {
   "cell_type": "markdown",
   "metadata": {},
   "source": [
    "## Lecture 5: Classification with perceptron model"
   ]
  },
  {
   "cell_type": "code",
   "execution_count": 1,
   "metadata": {},
   "outputs": [],
   "source": [
    "%matplotlib inline\n",
    "import os\n",
    "from tqdm import tqdm\n",
    "import time\n",
    "import pickle\n",
    "import numpy as np\n",
    "from matplotlib import pyplot as plt\n",
    "import torch\n",
    "from torch import nn\n",
    "from torchvision import datasets\n",
    "from torch.utils.data import DataLoader, TensorDataset\n",
    "import torch.nn.functional as function\n",
    "\n",
    "save_path = './'"
   ]
  },
  {
   "cell_type": "code",
   "execution_count": 2,
   "metadata": {},
   "outputs": [],
   "source": [
    "with open('../bin/slp/test_features.pckl', 'rb') as f:\n",
    "\ttest_features = pickle.load(f)\n",
    "with open('../bin/slp/test_label.pckl', 'rb') as f:\n",
    "\ttest_label = pickle.load(f)\n",
    "with open('../bin/slp/train_features.pckl', 'rb') as f:\n",
    "\ttrain_features = pickle.load(f)\n",
    "with open('../bin/slp/train_label.pckl', 'rb') as f:\n",
    "\ttrain_label= pickle.load(f)"
   ]
  },
  {
   "cell_type": "code",
   "execution_count": 3,
   "metadata": {},
   "outputs": [],
   "source": [
    "# Defining a Perceptron\n",
    "\n",
    "class perceptron(nn.Module):\n",
    "\tdef __init__(self, n_channels):\n",
    "\t\tsuper(perceptron, self).__init__()\n",
    "\t\tself.L = nn.Linear(n_channels, 10)\n",
    "\tdef forward(self, x):\n",
    "\t\tx = self.L(x)\n",
    "\t\tx = function.softmax(x) \n",
    "\t\treturn x\n"
   ]
  },
  {
   "cell_type": "code",
   "execution_count": 4,
   "metadata": {},
   "outputs": [],
   "source": [
    "# Generating 1-hot label encoding\n",
    "train_label_1hot = np.zeros((50000, 10))\n",
    "test_label_1hot = np.zeros((10000, 10))\n",
    "for d1 in range(train_label.shape[0]):\n",
    "\ttrain_label_1hot[d1, train_label[d1]] = 1\n",
    "for d2 in range(test_label.shape[0]):\n",
    "\ttest_label_1hot[d2, test_label[d2]] = 1"
   ]
  },
  {
   "cell_type": "code",
   "execution_count": 5,
   "metadata": {},
   "outputs": [
    {
     "name": "stdout",
     "output_type": "stream",
     "text": [
      "GPU is available!\n"
     ]
    }
   ],
   "source": [
    "use_gpu = torch.cuda.is_available()\n",
    "if use_gpu:\n",
    "\tprint('GPU is available!')\n",
    "\tpin_mem = True\n",
    "\tdevice = \"cuda\"\n",
    "else :\n",
    "\tprint('GPU is not available!')\n",
    "\tpin_mem = False\n",
    "\tdevice = \"cpu\""
   ]
  },
  {
   "cell_type": "code",
   "execution_count": 6,
   "metadata": {},
   "outputs": [],
   "source": [
    "# creating TensorDataset\n",
    "train_dataset = TensorDataset(torch.from_numpy(train_features), torch.from_numpy(train_label_1hot))\n",
    "test_dataset = TensorDataset(torch.from_numpy(test_features), torch.from_numpy(test_label_1hot))\n",
    "\n",
    "# creating DataLoader\n",
    "train_dataloader = DataLoader(train_dataset, num_workers= 4, batch_size= 64, shuffle=True, pin_memory=pin_mem)\n",
    "test_dataloader = DataLoader(test_dataset, num_workers= 4, batch_size= 64, shuffle=False, pin_memory=pin_mem)"
   ]
  },
  {
   "cell_type": "markdown",
   "metadata": {},
   "source": [
    "## Defining function for training the network"
   ]
  },
  {
   "cell_type": "code",
   "execution_count": 7,
   "metadata": {},
   "outputs": [],
   "source": [
    "# defining the training model\n",
    "def train_model(model, criterion, num_epochs, learning_rate):\n",
    "\tstart = time.time()\n",
    "\ttrain_loss = []\n",
    "\ttrain_accuracy = []\n",
    "\ttemp_labels = []\n",
    "\tfor epoch in range(num_epochs):\n",
    "\t\tepoch_start_time = time.time()\n",
    "\t\tprint('epoch {}/{}' .format(epoch, num_epochs+1))\n",
    "\n",
    "\t\trunning_loss = 0.0\n",
    "\t\tbatch = 0\n",
    "\t\tfor data in tqdm(train_dataloader):\n",
    "\t\t\tinputs, labels = data\n",
    "\t\t\tinputs, labels = inputs.float().to(device), labels.float().to(device)\n",
    "\n",
    "\t\t\t#initializing model gradient to zero\n",
    "\t\t\tmodel.zero_grad()\n",
    "\t\t\t# data feed forward through network\n",
    "\t\t\toutput = model(inputs)\n",
    "\t\t\t# predicted class is the one class with maximum probability\n",
    "\t\t\t_, prediction = output.data.max(1)\n",
    "\t\t\t# finding the Mean Squared Error MSE\n",
    "\t\t\tloss = criterion(output, labels)\n",
    "\t\t\t# Accumulating loss of each batch\n",
    "\t\t\trunning_loss += loss.item()\n",
    "\n",
    "\t\t\t# backpropogating the error\n",
    "\t\t\tif batch == 0:\n",
    "\t\t\t\ttotal_loss = loss\n",
    "\t\t\t\ttotal_prediction = prediction\n",
    "\t\t\t\ttemp_labels = labels.data.cpu()\n",
    "\t\t\t\tbatch+=1\n",
    "\t\t\telse:\n",
    "\t\t\t\ttotal_loss += loss\n",
    "\t\t\t\ttotal_prediction = torch.cat((torch.Tensor(total_prediction), torch.Tensor(prediction)), 0)\n",
    "\t\t\t\ttemp_labels = torch.cat((torch.Tensor(temp_labels), torch.Tensor(labels.data.cpu())), 0)\n",
    "\t\t\t\tbatch+=1\n",
    "\t\t\t\n",
    "\t\ttotal_loss = total_loss/batch\n",
    "\t\ttotal_loss.backward(retain_graph=True)\n",
    "\n",
    "\t\t# for updating the model parameters\n",
    "\t\tfor f in model.parameters():\n",
    "\t\t\tf.data.sub_(f.grad.data * learning_rate)\n",
    "\n",
    "\t\tepoch_loss = running_loss/50000\n",
    "\t\ttrain_loss.append(epoch_loss)\n",
    "\n",
    "\t\t# accuracy per epoch \n",
    "\t\ttemp_labels = temp_labels.numpy()\n",
    "\t\t_, total_labels = np.where(temp_labels == 1)\n",
    "\t\tepoch_accuracy = np.sum(np.equal(total_prediction.cpu().numpy(), np.array(total_labels)))/50000.0\n",
    "\t\ttrain_accuracy.append(float(epoch_accuracy*100))\n",
    "\n",
    "\t\tepoch_time_end = time.time() - epoch_start_time\n",
    "\t\tprint('average epoch loss: {:.6f}'.format(epoch_loss))\n",
    "\t\tprint('average epoch accuracy: {:.6f} %'.format(epoch_accuracy*100))\n",
    "\t\tprint('-' * 25)\n",
    "\n",
    "\t\t# plotting loss vs epoch\n",
    "\t\tfig1 = plt.figure(1)\n",
    "\t\tplt.plot(range(epoch+1),train_loss,'r--',label='train')\n",
    "\t\tif epoch == 0:\n",
    "\t\t\tplt.legend(loc='upper right')\n",
    "\t\t\tplt.xlabel('Epoch')\n",
    "\t\t\tplt.ylabel('Loss')\n",
    "\t\t\tplt.title('plot of training loss vs epoch')\n",
    "\t\tfig1.savefig(save_path+'loss_plot.png')\n",
    "\n",
    "\t\t#plotting accuracy vs epoch\n",
    "\t\tfig2 = plt.figure(2)\n",
    "\t\tplt.plot(range(epoch+1),train_accuracy,'g--',label='train')\n",
    "\t\tif epoch == 0:\n",
    "\t\t\tplt.legend(loc='upper left')\n",
    "\t\t\tplt.xlabel('Epoch')\n",
    "\t\t\tplt.ylabel('Accuracy')\n",
    "\t\t\tplt.title('plot of training accuracy vs epoch')\n",
    "\t\tfig2.savefig(save_path+'accuracy_plot.png')\n",
    "\ttime_elapsed = time.time() - start\n",
    "\tprint('Training complete in {:.0f}m {:.0f}s'.format(\n",
    "            time_elapsed // 60, time_elapsed % 60))\n",
    "\treturn model"
   ]
  },
  {
   "cell_type": "markdown",
   "metadata": {},
   "source": [
    "## Training the perceptron"
   ]
  },
  {
   "cell_type": "code",
   "execution_count": 8,
   "metadata": {},
   "outputs": [
    {
     "name": "stdout",
     "output_type": "stream",
     "text": [
      "epoch 0/101\n"
     ]
    },
    {
     "name": "stderr",
     "output_type": "stream",
     "text": [
      "  0%|          | 0/782 [00:00<?, ?it/s]/tmp/ipykernel_130548/3771040703.py:9: UserWarning: Implicit dimension choice for softmax has been deprecated. Change the call to include dim=X as an argument.\n",
      "  x = function.softmax(x)\n",
      "100%|██████████| 782/782 [00:00<00:00, 962.40it/s] \n"
     ]
    },
    {
     "name": "stdout",
     "output_type": "stream",
     "text": [
      "average epoch loss: 0.001415\n",
      "average epoch accuracy: 8.778000 %\n",
      "-------------------------\n",
      "epoch 1/101\n"
     ]
    },
    {
     "name": "stderr",
     "output_type": "stream",
     "text": [
      "100%|██████████| 782/782 [00:00<00:00, 999.43it/s] \n"
     ]
    },
    {
     "name": "stdout",
     "output_type": "stream",
     "text": [
      "average epoch loss: 0.001415\n",
      "average epoch accuracy: 8.786000 %\n",
      "-------------------------\n",
      "epoch 2/101\n"
     ]
    },
    {
     "name": "stderr",
     "output_type": "stream",
     "text": [
      "100%|██████████| 782/782 [00:00<00:00, 1039.76it/s]\n"
     ]
    },
    {
     "name": "stdout",
     "output_type": "stream",
     "text": [
      "average epoch loss: 0.001415\n",
      "average epoch accuracy: 8.796000 %\n",
      "-------------------------\n",
      "epoch 3/101\n"
     ]
    },
    {
     "name": "stderr",
     "output_type": "stream",
     "text": [
      "100%|██████████| 782/782 [00:00<00:00, 1063.19it/s]\n"
     ]
    },
    {
     "name": "stdout",
     "output_type": "stream",
     "text": [
      "average epoch loss: 0.001415\n",
      "average epoch accuracy: 8.806000 %\n",
      "-------------------------\n",
      "epoch 4/101\n"
     ]
    },
    {
     "name": "stderr",
     "output_type": "stream",
     "text": [
      "100%|██████████| 782/782 [00:00<00:00, 1019.55it/s]\n"
     ]
    },
    {
     "name": "stdout",
     "output_type": "stream",
     "text": [
      "average epoch loss: 0.001415\n",
      "average epoch accuracy: 8.824000 %\n",
      "-------------------------\n",
      "epoch 5/101\n"
     ]
    },
    {
     "name": "stderr",
     "output_type": "stream",
     "text": [
      "100%|██████████| 782/782 [00:00<00:00, 1058.79it/s]\n"
     ]
    },
    {
     "name": "stdout",
     "output_type": "stream",
     "text": [
      "average epoch loss: 0.001415\n",
      "average epoch accuracy: 8.840000 %\n",
      "-------------------------\n",
      "epoch 6/101\n"
     ]
    },
    {
     "name": "stderr",
     "output_type": "stream",
     "text": [
      "100%|██████████| 782/782 [00:00<00:00, 1071.79it/s]\n"
     ]
    },
    {
     "name": "stdout",
     "output_type": "stream",
     "text": [
      "average epoch loss: 0.001415\n",
      "average epoch accuracy: 8.854000 %\n",
      "-------------------------\n",
      "epoch 7/101\n"
     ]
    },
    {
     "name": "stderr",
     "output_type": "stream",
     "text": [
      "100%|██████████| 782/782 [00:00<00:00, 1074.21it/s]\n"
     ]
    },
    {
     "name": "stdout",
     "output_type": "stream",
     "text": [
      "average epoch loss: 0.001415\n",
      "average epoch accuracy: 8.862000 %\n",
      "-------------------------\n",
      "epoch 8/101\n"
     ]
    },
    {
     "name": "stderr",
     "output_type": "stream",
     "text": [
      "100%|██████████| 782/782 [00:00<00:00, 1067.70it/s]\n"
     ]
    },
    {
     "name": "stdout",
     "output_type": "stream",
     "text": [
      "average epoch loss: 0.001415\n",
      "average epoch accuracy: 8.858000 %\n",
      "-------------------------\n",
      "epoch 9/101\n"
     ]
    },
    {
     "name": "stderr",
     "output_type": "stream",
     "text": [
      "100%|██████████| 782/782 [00:00<00:00, 1059.34it/s]\n"
     ]
    },
    {
     "name": "stdout",
     "output_type": "stream",
     "text": [
      "average epoch loss: 0.001414\n",
      "average epoch accuracy: 8.850000 %\n",
      "-------------------------\n",
      "epoch 10/101\n"
     ]
    },
    {
     "name": "stderr",
     "output_type": "stream",
     "text": [
      "100%|██████████| 782/782 [00:00<00:00, 1065.12it/s]\n"
     ]
    },
    {
     "name": "stdout",
     "output_type": "stream",
     "text": [
      "average epoch loss: 0.001414\n",
      "average epoch accuracy: 8.860000 %\n",
      "-------------------------\n",
      "epoch 11/101\n"
     ]
    },
    {
     "name": "stderr",
     "output_type": "stream",
     "text": [
      "100%|██████████| 782/782 [00:00<00:00, 1062.14it/s]\n"
     ]
    },
    {
     "name": "stdout",
     "output_type": "stream",
     "text": [
      "average epoch loss: 0.001414\n",
      "average epoch accuracy: 8.888000 %\n",
      "-------------------------\n",
      "epoch 12/101\n"
     ]
    },
    {
     "name": "stderr",
     "output_type": "stream",
     "text": [
      "100%|██████████| 782/782 [00:00<00:00, 1059.51it/s]\n"
     ]
    },
    {
     "name": "stdout",
     "output_type": "stream",
     "text": [
      "average epoch loss: 0.001414\n",
      "average epoch accuracy: 8.910000 %\n",
      "-------------------------\n",
      "epoch 13/101\n"
     ]
    },
    {
     "name": "stderr",
     "output_type": "stream",
     "text": [
      "100%|██████████| 782/782 [00:00<00:00, 1086.32it/s]\n"
     ]
    },
    {
     "name": "stdout",
     "output_type": "stream",
     "text": [
      "average epoch loss: 0.001414\n",
      "average epoch accuracy: 8.930000 %\n",
      "-------------------------\n",
      "epoch 14/101\n"
     ]
    },
    {
     "name": "stderr",
     "output_type": "stream",
     "text": [
      "100%|██████████| 782/782 [00:00<00:00, 1063.59it/s]\n"
     ]
    },
    {
     "name": "stdout",
     "output_type": "stream",
     "text": [
      "average epoch loss: 0.001414\n",
      "average epoch accuracy: 8.938000 %\n",
      "-------------------------\n",
      "epoch 15/101\n"
     ]
    },
    {
     "name": "stderr",
     "output_type": "stream",
     "text": [
      "100%|██████████| 782/782 [00:00<00:00, 1070.06it/s]\n"
     ]
    },
    {
     "name": "stdout",
     "output_type": "stream",
     "text": [
      "average epoch loss: 0.001414\n",
      "average epoch accuracy: 8.948000 %\n",
      "-------------------------\n",
      "epoch 16/101\n"
     ]
    },
    {
     "name": "stderr",
     "output_type": "stream",
     "text": [
      "100%|██████████| 782/782 [00:00<00:00, 1041.50it/s]\n"
     ]
    },
    {
     "name": "stdout",
     "output_type": "stream",
     "text": [
      "average epoch loss: 0.001414\n",
      "average epoch accuracy: 8.970000 %\n",
      "-------------------------\n",
      "epoch 17/101\n"
     ]
    },
    {
     "name": "stderr",
     "output_type": "stream",
     "text": [
      "100%|██████████| 782/782 [00:00<00:00, 1054.46it/s]\n"
     ]
    },
    {
     "name": "stdout",
     "output_type": "stream",
     "text": [
      "average epoch loss: 0.001414\n",
      "average epoch accuracy: 8.970000 %\n",
      "-------------------------\n",
      "epoch 18/101\n"
     ]
    },
    {
     "name": "stderr",
     "output_type": "stream",
     "text": [
      "100%|██████████| 782/782 [00:00<00:00, 1072.94it/s]\n"
     ]
    },
    {
     "name": "stdout",
     "output_type": "stream",
     "text": [
      "average epoch loss: 0.001414\n",
      "average epoch accuracy: 8.978000 %\n",
      "-------------------------\n",
      "epoch 19/101\n"
     ]
    },
    {
     "name": "stderr",
     "output_type": "stream",
     "text": [
      "100%|██████████| 782/782 [00:00<00:00, 1100.30it/s]\n"
     ]
    },
    {
     "name": "stdout",
     "output_type": "stream",
     "text": [
      "average epoch loss: 0.001414\n",
      "average epoch accuracy: 8.978000 %\n",
      "-------------------------\n",
      "epoch 20/101\n"
     ]
    },
    {
     "name": "stderr",
     "output_type": "stream",
     "text": [
      "100%|██████████| 782/782 [00:00<00:00, 1081.81it/s]\n"
     ]
    },
    {
     "name": "stdout",
     "output_type": "stream",
     "text": [
      "average epoch loss: 0.001413\n",
      "average epoch accuracy: 8.980000 %\n",
      "-------------------------\n",
      "epoch 21/101\n"
     ]
    },
    {
     "name": "stderr",
     "output_type": "stream",
     "text": [
      "100%|██████████| 782/782 [00:00<00:00, 1075.67it/s]\n"
     ]
    },
    {
     "name": "stdout",
     "output_type": "stream",
     "text": [
      "average epoch loss: 0.001413\n",
      "average epoch accuracy: 8.974000 %\n",
      "-------------------------\n",
      "epoch 22/101\n"
     ]
    },
    {
     "name": "stderr",
     "output_type": "stream",
     "text": [
      "100%|██████████| 782/782 [00:00<00:00, 1088.76it/s]\n"
     ]
    },
    {
     "name": "stdout",
     "output_type": "stream",
     "text": [
      "average epoch loss: 0.001413\n",
      "average epoch accuracy: 8.982000 %\n",
      "-------------------------\n",
      "epoch 23/101\n"
     ]
    },
    {
     "name": "stderr",
     "output_type": "stream",
     "text": [
      "100%|██████████| 782/782 [00:00<00:00, 1039.39it/s]\n"
     ]
    },
    {
     "name": "stdout",
     "output_type": "stream",
     "text": [
      "average epoch loss: 0.001413\n",
      "average epoch accuracy: 8.988000 %\n",
      "-------------------------\n",
      "epoch 24/101\n"
     ]
    },
    {
     "name": "stderr",
     "output_type": "stream",
     "text": [
      "100%|██████████| 782/782 [00:00<00:00, 1098.85it/s]\n"
     ]
    },
    {
     "name": "stdout",
     "output_type": "stream",
     "text": [
      "average epoch loss: 0.001413\n",
      "average epoch accuracy: 9.012000 %\n",
      "-------------------------\n",
      "epoch 25/101\n"
     ]
    },
    {
     "name": "stderr",
     "output_type": "stream",
     "text": [
      "100%|██████████| 782/782 [00:00<00:00, 1085.24it/s]\n"
     ]
    },
    {
     "name": "stdout",
     "output_type": "stream",
     "text": [
      "average epoch loss: 0.001413\n",
      "average epoch accuracy: 9.028000 %\n",
      "-------------------------\n",
      "epoch 26/101\n"
     ]
    },
    {
     "name": "stderr",
     "output_type": "stream",
     "text": [
      "100%|██████████| 782/782 [00:00<00:00, 1087.20it/s]\n"
     ]
    },
    {
     "name": "stdout",
     "output_type": "stream",
     "text": [
      "average epoch loss: 0.001413\n",
      "average epoch accuracy: 9.044000 %\n",
      "-------------------------\n",
      "epoch 27/101\n"
     ]
    },
    {
     "name": "stderr",
     "output_type": "stream",
     "text": [
      "100%|██████████| 782/782 [00:00<00:00, 1078.54it/s]\n"
     ]
    },
    {
     "name": "stdout",
     "output_type": "stream",
     "text": [
      "average epoch loss: 0.001413\n",
      "average epoch accuracy: 9.052000 %\n",
      "-------------------------\n",
      "epoch 28/101\n"
     ]
    },
    {
     "name": "stderr",
     "output_type": "stream",
     "text": [
      "100%|██████████| 782/782 [00:00<00:00, 1087.38it/s]\n"
     ]
    },
    {
     "name": "stdout",
     "output_type": "stream",
     "text": [
      "average epoch loss: 0.001413\n",
      "average epoch accuracy: 9.068000 %\n",
      "-------------------------\n",
      "epoch 29/101\n"
     ]
    },
    {
     "name": "stderr",
     "output_type": "stream",
     "text": [
      "100%|██████████| 782/782 [00:00<00:00, 1068.81it/s]\n"
     ]
    },
    {
     "name": "stdout",
     "output_type": "stream",
     "text": [
      "average epoch loss: 0.001413\n",
      "average epoch accuracy: 9.076000 %\n",
      "-------------------------\n",
      "epoch 30/101\n"
     ]
    },
    {
     "name": "stderr",
     "output_type": "stream",
     "text": [
      "100%|██████████| 782/782 [00:00<00:00, 1051.70it/s]\n"
     ]
    },
    {
     "name": "stdout",
     "output_type": "stream",
     "text": [
      "average epoch loss: 0.001413\n",
      "average epoch accuracy: 9.080000 %\n",
      "-------------------------\n",
      "epoch 31/101\n"
     ]
    },
    {
     "name": "stderr",
     "output_type": "stream",
     "text": [
      "100%|██████████| 782/782 [00:00<00:00, 1094.99it/s]\n"
     ]
    },
    {
     "name": "stdout",
     "output_type": "stream",
     "text": [
      "average epoch loss: 0.001413\n",
      "average epoch accuracy: 9.088000 %\n",
      "-------------------------\n",
      "epoch 32/101\n"
     ]
    },
    {
     "name": "stderr",
     "output_type": "stream",
     "text": [
      "100%|██████████| 782/782 [00:00<00:00, 1096.34it/s]\n"
     ]
    },
    {
     "name": "stdout",
     "output_type": "stream",
     "text": [
      "average epoch loss: 0.001413\n",
      "average epoch accuracy: 9.090000 %\n",
      "-------------------------\n",
      "epoch 33/101\n"
     ]
    },
    {
     "name": "stderr",
     "output_type": "stream",
     "text": [
      "100%|██████████| 782/782 [00:00<00:00, 1088.35it/s]\n"
     ]
    },
    {
     "name": "stdout",
     "output_type": "stream",
     "text": [
      "average epoch loss: 0.001412\n",
      "average epoch accuracy: 9.086000 %\n",
      "-------------------------\n",
      "epoch 34/101\n"
     ]
    },
    {
     "name": "stderr",
     "output_type": "stream",
     "text": [
      "100%|██████████| 782/782 [00:00<00:00, 1069.75it/s]\n"
     ]
    },
    {
     "name": "stdout",
     "output_type": "stream",
     "text": [
      "average epoch loss: 0.001412\n",
      "average epoch accuracy: 9.100000 %\n",
      "-------------------------\n",
      "epoch 35/101\n"
     ]
    },
    {
     "name": "stderr",
     "output_type": "stream",
     "text": [
      "100%|██████████| 782/782 [00:00<00:00, 1089.52it/s]\n"
     ]
    },
    {
     "name": "stdout",
     "output_type": "stream",
     "text": [
      "average epoch loss: 0.001412\n",
      "average epoch accuracy: 9.118000 %\n",
      "-------------------------\n",
      "epoch 36/101\n"
     ]
    },
    {
     "name": "stderr",
     "output_type": "stream",
     "text": [
      "100%|██████████| 782/782 [00:00<00:00, 1072.79it/s]\n"
     ]
    },
    {
     "name": "stdout",
     "output_type": "stream",
     "text": [
      "average epoch loss: 0.001412\n",
      "average epoch accuracy: 9.122000 %\n",
      "-------------------------\n",
      "epoch 37/101\n"
     ]
    },
    {
     "name": "stderr",
     "output_type": "stream",
     "text": [
      "100%|██████████| 782/782 [00:00<00:00, 1087.40it/s]\n"
     ]
    },
    {
     "name": "stdout",
     "output_type": "stream",
     "text": [
      "average epoch loss: 0.001412\n",
      "average epoch accuracy: 9.146000 %\n",
      "-------------------------\n",
      "epoch 38/101\n"
     ]
    },
    {
     "name": "stderr",
     "output_type": "stream",
     "text": [
      "100%|██████████| 782/782 [00:00<00:00, 1034.28it/s]\n"
     ]
    },
    {
     "name": "stdout",
     "output_type": "stream",
     "text": [
      "average epoch loss: 0.001412\n",
      "average epoch accuracy: 9.142000 %\n",
      "-------------------------\n",
      "epoch 39/101\n"
     ]
    },
    {
     "name": "stderr",
     "output_type": "stream",
     "text": [
      "100%|██████████| 782/782 [00:00<00:00, 1060.40it/s]\n"
     ]
    },
    {
     "name": "stdout",
     "output_type": "stream",
     "text": [
      "average epoch loss: 0.001412\n",
      "average epoch accuracy: 9.142000 %\n",
      "-------------------------\n",
      "epoch 40/101\n"
     ]
    },
    {
     "name": "stderr",
     "output_type": "stream",
     "text": [
      "100%|██████████| 782/782 [00:00<00:00, 1066.41it/s]\n"
     ]
    },
    {
     "name": "stdout",
     "output_type": "stream",
     "text": [
      "average epoch loss: 0.001412\n",
      "average epoch accuracy: 9.154000 %\n",
      "-------------------------\n",
      "epoch 41/101\n"
     ]
    },
    {
     "name": "stderr",
     "output_type": "stream",
     "text": [
      "100%|██████████| 782/782 [00:00<00:00, 1093.58it/s]\n"
     ]
    },
    {
     "name": "stdout",
     "output_type": "stream",
     "text": [
      "average epoch loss: 0.001412\n",
      "average epoch accuracy: 9.162000 %\n",
      "-------------------------\n",
      "epoch 42/101\n"
     ]
    },
    {
     "name": "stderr",
     "output_type": "stream",
     "text": [
      "100%|██████████| 782/782 [00:00<00:00, 1054.07it/s]\n"
     ]
    },
    {
     "name": "stdout",
     "output_type": "stream",
     "text": [
      "average epoch loss: 0.001412\n",
      "average epoch accuracy: 9.164000 %\n",
      "-------------------------\n",
      "epoch 43/101\n"
     ]
    },
    {
     "name": "stderr",
     "output_type": "stream",
     "text": [
      "100%|██████████| 782/782 [00:00<00:00, 1062.26it/s]\n"
     ]
    },
    {
     "name": "stdout",
     "output_type": "stream",
     "text": [
      "average epoch loss: 0.001412\n",
      "average epoch accuracy: 9.164000 %\n",
      "-------------------------\n",
      "epoch 44/101\n"
     ]
    },
    {
     "name": "stderr",
     "output_type": "stream",
     "text": [
      "100%|██████████| 782/782 [00:00<00:00, 1058.59it/s]\n"
     ]
    },
    {
     "name": "stdout",
     "output_type": "stream",
     "text": [
      "average epoch loss: 0.001412\n",
      "average epoch accuracy: 9.172000 %\n",
      "-------------------------\n",
      "epoch 45/101\n"
     ]
    },
    {
     "name": "stderr",
     "output_type": "stream",
     "text": [
      "100%|██████████| 782/782 [00:00<00:00, 1032.75it/s]\n"
     ]
    },
    {
     "name": "stdout",
     "output_type": "stream",
     "text": [
      "average epoch loss: 0.001412\n",
      "average epoch accuracy: 9.178000 %\n",
      "-------------------------\n",
      "epoch 46/101\n"
     ]
    },
    {
     "name": "stderr",
     "output_type": "stream",
     "text": [
      "100%|██████████| 782/782 [00:00<00:00, 1050.52it/s]\n"
     ]
    },
    {
     "name": "stdout",
     "output_type": "stream",
     "text": [
      "average epoch loss: 0.001412\n",
      "average epoch accuracy: 9.184000 %\n",
      "-------------------------\n",
      "epoch 47/101\n"
     ]
    },
    {
     "name": "stderr",
     "output_type": "stream",
     "text": [
      "100%|██████████| 782/782 [00:00<00:00, 963.08it/s] \n"
     ]
    },
    {
     "name": "stdout",
     "output_type": "stream",
     "text": [
      "average epoch loss: 0.001412\n",
      "average epoch accuracy: 9.178000 %\n",
      "-------------------------\n",
      "epoch 48/101\n"
     ]
    },
    {
     "name": "stderr",
     "output_type": "stream",
     "text": [
      "100%|██████████| 782/782 [00:00<00:00, 1052.52it/s]\n"
     ]
    },
    {
     "name": "stdout",
     "output_type": "stream",
     "text": [
      "average epoch loss: 0.001412\n",
      "average epoch accuracy: 9.182000 %\n",
      "-------------------------\n",
      "epoch 49/101\n"
     ]
    },
    {
     "name": "stderr",
     "output_type": "stream",
     "text": [
      "100%|██████████| 782/782 [00:00<00:00, 1036.05it/s]\n"
     ]
    },
    {
     "name": "stdout",
     "output_type": "stream",
     "text": [
      "average epoch loss: 0.001411\n",
      "average epoch accuracy: 9.188000 %\n",
      "-------------------------\n",
      "epoch 50/101\n"
     ]
    },
    {
     "name": "stderr",
     "output_type": "stream",
     "text": [
      "100%|██████████| 782/782 [00:00<00:00, 1043.51it/s]\n"
     ]
    },
    {
     "name": "stdout",
     "output_type": "stream",
     "text": [
      "average epoch loss: 0.001411\n",
      "average epoch accuracy: 9.198000 %\n",
      "-------------------------\n",
      "epoch 51/101\n"
     ]
    },
    {
     "name": "stderr",
     "output_type": "stream",
     "text": [
      "100%|██████████| 782/782 [00:00<00:00, 968.40it/s] \n"
     ]
    },
    {
     "name": "stdout",
     "output_type": "stream",
     "text": [
      "average epoch loss: 0.001411\n",
      "average epoch accuracy: 9.194000 %\n",
      "-------------------------\n",
      "epoch 52/101\n"
     ]
    },
    {
     "name": "stderr",
     "output_type": "stream",
     "text": [
      "100%|██████████| 782/782 [00:00<00:00, 987.82it/s] \n"
     ]
    },
    {
     "name": "stdout",
     "output_type": "stream",
     "text": [
      "average epoch loss: 0.001411\n",
      "average epoch accuracy: 9.194000 %\n",
      "-------------------------\n",
      "epoch 53/101\n"
     ]
    },
    {
     "name": "stderr",
     "output_type": "stream",
     "text": [
      "100%|██████████| 782/782 [00:00<00:00, 1049.17it/s]\n"
     ]
    },
    {
     "name": "stdout",
     "output_type": "stream",
     "text": [
      "average epoch loss: 0.001411\n",
      "average epoch accuracy: 9.196000 %\n",
      "-------------------------\n",
      "epoch 54/101\n"
     ]
    },
    {
     "name": "stderr",
     "output_type": "stream",
     "text": [
      "100%|██████████| 782/782 [00:00<00:00, 1054.39it/s]\n"
     ]
    },
    {
     "name": "stdout",
     "output_type": "stream",
     "text": [
      "average epoch loss: 0.001411\n",
      "average epoch accuracy: 9.212000 %\n",
      "-------------------------\n",
      "epoch 55/101\n"
     ]
    },
    {
     "name": "stderr",
     "output_type": "stream",
     "text": [
      "100%|██████████| 782/782 [00:00<00:00, 1052.35it/s]\n"
     ]
    },
    {
     "name": "stdout",
     "output_type": "stream",
     "text": [
      "average epoch loss: 0.001411\n",
      "average epoch accuracy: 9.194000 %\n",
      "-------------------------\n",
      "epoch 56/101\n"
     ]
    },
    {
     "name": "stderr",
     "output_type": "stream",
     "text": [
      "100%|██████████| 782/782 [00:00<00:00, 1047.46it/s]\n"
     ]
    },
    {
     "name": "stdout",
     "output_type": "stream",
     "text": [
      "average epoch loss: 0.001411\n",
      "average epoch accuracy: 9.194000 %\n",
      "-------------------------\n",
      "epoch 57/101\n"
     ]
    },
    {
     "name": "stderr",
     "output_type": "stream",
     "text": [
      "100%|██████████| 782/782 [00:00<00:00, 1005.58it/s]\n"
     ]
    },
    {
     "name": "stdout",
     "output_type": "stream",
     "text": [
      "average epoch loss: 0.001411\n",
      "average epoch accuracy: 9.192000 %\n",
      "-------------------------\n",
      "epoch 58/101\n"
     ]
    },
    {
     "name": "stderr",
     "output_type": "stream",
     "text": [
      "100%|██████████| 782/782 [00:00<00:00, 1038.14it/s]\n"
     ]
    },
    {
     "name": "stdout",
     "output_type": "stream",
     "text": [
      "average epoch loss: 0.001411\n",
      "average epoch accuracy: 9.196000 %\n",
      "-------------------------\n",
      "epoch 59/101\n"
     ]
    },
    {
     "name": "stderr",
     "output_type": "stream",
     "text": [
      "100%|██████████| 782/782 [00:00<00:00, 1047.20it/s]\n"
     ]
    },
    {
     "name": "stdout",
     "output_type": "stream",
     "text": [
      "average epoch loss: 0.001411\n",
      "average epoch accuracy: 9.192000 %\n",
      "-------------------------\n",
      "epoch 60/101\n"
     ]
    },
    {
     "name": "stderr",
     "output_type": "stream",
     "text": [
      "100%|██████████| 782/782 [00:00<00:00, 1031.29it/s]\n"
     ]
    },
    {
     "name": "stdout",
     "output_type": "stream",
     "text": [
      "average epoch loss: 0.001411\n",
      "average epoch accuracy: 9.202000 %\n",
      "-------------------------\n",
      "epoch 61/101\n"
     ]
    },
    {
     "name": "stderr",
     "output_type": "stream",
     "text": [
      "100%|██████████| 782/782 [00:01<00:00, 759.01it/s]\n"
     ]
    },
    {
     "name": "stdout",
     "output_type": "stream",
     "text": [
      "average epoch loss: 0.001411\n",
      "average epoch accuracy: 9.206000 %\n",
      "-------------------------\n",
      "epoch 62/101\n"
     ]
    },
    {
     "name": "stderr",
     "output_type": "stream",
     "text": [
      "100%|██████████| 782/782 [00:00<00:00, 841.36it/s]\n"
     ]
    },
    {
     "name": "stdout",
     "output_type": "stream",
     "text": [
      "average epoch loss: 0.001411\n",
      "average epoch accuracy: 9.216000 %\n",
      "-------------------------\n",
      "epoch 63/101\n"
     ]
    },
    {
     "name": "stderr",
     "output_type": "stream",
     "text": [
      "100%|██████████| 782/782 [00:01<00:00, 764.36it/s]\n"
     ]
    },
    {
     "name": "stdout",
     "output_type": "stream",
     "text": [
      "average epoch loss: 0.001411\n",
      "average epoch accuracy: 9.232000 %\n",
      "-------------------------\n",
      "epoch 64/101\n"
     ]
    },
    {
     "name": "stderr",
     "output_type": "stream",
     "text": [
      "100%|██████████| 782/782 [00:00<00:00, 791.42it/s]\n"
     ]
    },
    {
     "name": "stdout",
     "output_type": "stream",
     "text": [
      "average epoch loss: 0.001411\n",
      "average epoch accuracy: 9.244000 %\n",
      "-------------------------\n",
      "epoch 65/101\n"
     ]
    },
    {
     "name": "stderr",
     "output_type": "stream",
     "text": [
      "100%|██████████| 782/782 [00:00<00:00, 794.40it/s]\n"
     ]
    },
    {
     "name": "stdout",
     "output_type": "stream",
     "text": [
      "average epoch loss: 0.001411\n",
      "average epoch accuracy: 9.256000 %\n",
      "-------------------------\n",
      "epoch 66/101\n"
     ]
    },
    {
     "name": "stderr",
     "output_type": "stream",
     "text": [
      "100%|██████████| 782/782 [00:01<00:00, 740.15it/s]\n"
     ]
    },
    {
     "name": "stdout",
     "output_type": "stream",
     "text": [
      "average epoch loss: 0.001411\n",
      "average epoch accuracy: 9.254000 %\n",
      "-------------------------\n",
      "epoch 67/101\n"
     ]
    },
    {
     "name": "stderr",
     "output_type": "stream",
     "text": [
      "100%|██████████| 782/782 [00:00<00:00, 792.94it/s]\n"
     ]
    },
    {
     "name": "stdout",
     "output_type": "stream",
     "text": [
      "average epoch loss: 0.001411\n",
      "average epoch accuracy: 9.260000 %\n",
      "-------------------------\n",
      "epoch 68/101\n"
     ]
    },
    {
     "name": "stderr",
     "output_type": "stream",
     "text": [
      "100%|██████████| 782/782 [00:00<00:00, 789.70it/s]\n"
     ]
    },
    {
     "name": "stdout",
     "output_type": "stream",
     "text": [
      "average epoch loss: 0.001410\n",
      "average epoch accuracy: 9.256000 %\n",
      "-------------------------\n",
      "epoch 69/101\n"
     ]
    },
    {
     "name": "stderr",
     "output_type": "stream",
     "text": [
      "100%|██████████| 782/782 [00:00<00:00, 802.78it/s]\n"
     ]
    },
    {
     "name": "stdout",
     "output_type": "stream",
     "text": [
      "average epoch loss: 0.001410\n",
      "average epoch accuracy: 9.262000 %\n",
      "-------------------------\n",
      "epoch 70/101\n"
     ]
    },
    {
     "name": "stderr",
     "output_type": "stream",
     "text": [
      "100%|██████████| 782/782 [00:01<00:00, 781.42it/s]\n"
     ]
    },
    {
     "name": "stdout",
     "output_type": "stream",
     "text": [
      "average epoch loss: 0.001410\n",
      "average epoch accuracy: 9.262000 %\n",
      "-------------------------\n",
      "epoch 71/101\n"
     ]
    },
    {
     "name": "stderr",
     "output_type": "stream",
     "text": [
      "100%|██████████| 782/782 [00:00<00:00, 793.94it/s]\n"
     ]
    },
    {
     "name": "stdout",
     "output_type": "stream",
     "text": [
      "average epoch loss: 0.001410\n",
      "average epoch accuracy: 9.268000 %\n",
      "-------------------------\n",
      "epoch 72/101\n"
     ]
    },
    {
     "name": "stderr",
     "output_type": "stream",
     "text": [
      "100%|██████████| 782/782 [00:01<00:00, 769.33it/s]\n"
     ]
    },
    {
     "name": "stdout",
     "output_type": "stream",
     "text": [
      "average epoch loss: 0.001410\n",
      "average epoch accuracy: 9.268000 %\n",
      "-------------------------\n",
      "epoch 73/101\n"
     ]
    },
    {
     "name": "stderr",
     "output_type": "stream",
     "text": [
      "100%|██████████| 782/782 [00:00<00:00, 810.00it/s]\n"
     ]
    },
    {
     "name": "stdout",
     "output_type": "stream",
     "text": [
      "average epoch loss: 0.001410\n",
      "average epoch accuracy: 9.274000 %\n",
      "-------------------------\n",
      "epoch 74/101\n"
     ]
    },
    {
     "name": "stderr",
     "output_type": "stream",
     "text": [
      "100%|██████████| 782/782 [00:01<00:00, 777.81it/s]\n"
     ]
    },
    {
     "name": "stdout",
     "output_type": "stream",
     "text": [
      "average epoch loss: 0.001410\n",
      "average epoch accuracy: 9.274000 %\n",
      "-------------------------\n",
      "epoch 75/101\n"
     ]
    },
    {
     "name": "stderr",
     "output_type": "stream",
     "text": [
      "100%|██████████| 782/782 [00:00<00:00, 788.08it/s]\n"
     ]
    },
    {
     "name": "stdout",
     "output_type": "stream",
     "text": [
      "average epoch loss: 0.001410\n",
      "average epoch accuracy: 9.276000 %\n",
      "-------------------------\n",
      "epoch 76/101\n"
     ]
    },
    {
     "name": "stderr",
     "output_type": "stream",
     "text": [
      "100%|██████████| 782/782 [00:00<00:00, 808.65it/s]\n"
     ]
    },
    {
     "name": "stdout",
     "output_type": "stream",
     "text": [
      "average epoch loss: 0.001410\n",
      "average epoch accuracy: 9.282000 %\n",
      "-------------------------\n",
      "epoch 77/101\n"
     ]
    },
    {
     "name": "stderr",
     "output_type": "stream",
     "text": [
      "100%|██████████| 782/782 [00:00<00:00, 792.70it/s]\n"
     ]
    },
    {
     "name": "stdout",
     "output_type": "stream",
     "text": [
      "average epoch loss: 0.001410\n",
      "average epoch accuracy: 9.290000 %\n",
      "-------------------------\n",
      "epoch 78/101\n"
     ]
    },
    {
     "name": "stderr",
     "output_type": "stream",
     "text": [
      "100%|██████████| 782/782 [00:01<00:00, 773.86it/s]\n"
     ]
    },
    {
     "name": "stdout",
     "output_type": "stream",
     "text": [
      "average epoch loss: 0.001410\n",
      "average epoch accuracy: 9.298000 %\n",
      "-------------------------\n",
      "epoch 79/101\n"
     ]
    },
    {
     "name": "stderr",
     "output_type": "stream",
     "text": [
      "100%|██████████| 782/782 [00:00<00:00, 787.01it/s]\n"
     ]
    },
    {
     "name": "stdout",
     "output_type": "stream",
     "text": [
      "average epoch loss: 0.001410\n",
      "average epoch accuracy: 9.304000 %\n",
      "-------------------------\n",
      "epoch 80/101\n"
     ]
    },
    {
     "name": "stderr",
     "output_type": "stream",
     "text": [
      "100%|██████████| 782/782 [00:00<00:00, 810.04it/s]\n"
     ]
    },
    {
     "name": "stdout",
     "output_type": "stream",
     "text": [
      "average epoch loss: 0.001410\n",
      "average epoch accuracy: 9.302000 %\n",
      "-------------------------\n",
      "epoch 81/101\n"
     ]
    },
    {
     "name": "stderr",
     "output_type": "stream",
     "text": [
      "100%|██████████| 782/782 [00:00<00:00, 806.07it/s]\n"
     ]
    },
    {
     "name": "stdout",
     "output_type": "stream",
     "text": [
      "average epoch loss: 0.001410\n",
      "average epoch accuracy: 9.306000 %\n",
      "-------------------------\n",
      "epoch 82/101\n"
     ]
    },
    {
     "name": "stderr",
     "output_type": "stream",
     "text": [
      "100%|██████████| 782/782 [00:00<00:00, 831.44it/s]\n"
     ]
    },
    {
     "name": "stdout",
     "output_type": "stream",
     "text": [
      "average epoch loss: 0.001410\n",
      "average epoch accuracy: 9.318000 %\n",
      "-------------------------\n",
      "epoch 83/101\n"
     ]
    },
    {
     "name": "stderr",
     "output_type": "stream",
     "text": [
      "100%|██████████| 782/782 [00:00<00:00, 1029.32it/s]\n"
     ]
    },
    {
     "name": "stdout",
     "output_type": "stream",
     "text": [
      "average epoch loss: 0.001410\n",
      "average epoch accuracy: 9.316000 %\n",
      "-------------------------\n",
      "epoch 84/101\n"
     ]
    },
    {
     "name": "stderr",
     "output_type": "stream",
     "text": [
      "100%|██████████| 782/782 [00:00<00:00, 993.14it/s] \n"
     ]
    },
    {
     "name": "stdout",
     "output_type": "stream",
     "text": [
      "average epoch loss: 0.001410\n",
      "average epoch accuracy: 9.310000 %\n",
      "-------------------------\n",
      "epoch 85/101\n"
     ]
    },
    {
     "name": "stderr",
     "output_type": "stream",
     "text": [
      "100%|██████████| 782/782 [00:00<00:00, 1035.56it/s]\n"
     ]
    },
    {
     "name": "stdout",
     "output_type": "stream",
     "text": [
      "average epoch loss: 0.001410\n",
      "average epoch accuracy: 9.302000 %\n",
      "-------------------------\n",
      "epoch 86/101\n"
     ]
    },
    {
     "name": "stderr",
     "output_type": "stream",
     "text": [
      "100%|██████████| 782/782 [00:00<00:00, 1026.26it/s]\n"
     ]
    },
    {
     "name": "stdout",
     "output_type": "stream",
     "text": [
      "average epoch loss: 0.001410\n",
      "average epoch accuracy: 9.302000 %\n",
      "-------------------------\n",
      "epoch 87/101\n"
     ]
    },
    {
     "name": "stderr",
     "output_type": "stream",
     "text": [
      "100%|██████████| 782/782 [00:00<00:00, 992.37it/s] \n"
     ]
    },
    {
     "name": "stdout",
     "output_type": "stream",
     "text": [
      "average epoch loss: 0.001410\n",
      "average epoch accuracy: 9.296000 %\n",
      "-------------------------\n",
      "epoch 88/101\n"
     ]
    },
    {
     "name": "stderr",
     "output_type": "stream",
     "text": [
      "100%|██████████| 782/782 [00:00<00:00, 970.08it/s] \n"
     ]
    },
    {
     "name": "stdout",
     "output_type": "stream",
     "text": [
      "average epoch loss: 0.001410\n",
      "average epoch accuracy: 9.294000 %\n",
      "-------------------------\n",
      "epoch 89/101\n"
     ]
    },
    {
     "name": "stderr",
     "output_type": "stream",
     "text": [
      "100%|██████████| 782/782 [00:00<00:00, 941.76it/s] \n"
     ]
    },
    {
     "name": "stdout",
     "output_type": "stream",
     "text": [
      "average epoch loss: 0.001410\n",
      "average epoch accuracy: 9.298000 %\n",
      "-------------------------\n",
      "epoch 90/101\n"
     ]
    },
    {
     "name": "stderr",
     "output_type": "stream",
     "text": [
      "100%|██████████| 782/782 [00:00<00:00, 971.57it/s] \n"
     ]
    },
    {
     "name": "stdout",
     "output_type": "stream",
     "text": [
      "average epoch loss: 0.001410\n",
      "average epoch accuracy: 9.304000 %\n",
      "-------------------------\n",
      "epoch 91/101\n"
     ]
    },
    {
     "name": "stderr",
     "output_type": "stream",
     "text": [
      "100%|██████████| 782/782 [00:00<00:00, 952.82it/s] \n"
     ]
    },
    {
     "name": "stdout",
     "output_type": "stream",
     "text": [
      "average epoch loss: 0.001410\n",
      "average epoch accuracy: 9.296000 %\n",
      "-------------------------\n",
      "epoch 92/101\n"
     ]
    },
    {
     "name": "stderr",
     "output_type": "stream",
     "text": [
      "100%|██████████| 782/782 [00:00<00:00, 1026.26it/s]\n"
     ]
    },
    {
     "name": "stdout",
     "output_type": "stream",
     "text": [
      "average epoch loss: 0.001410\n",
      "average epoch accuracy: 9.296000 %\n",
      "-------------------------\n",
      "epoch 93/101\n"
     ]
    },
    {
     "name": "stderr",
     "output_type": "stream",
     "text": [
      "100%|██████████| 782/782 [00:00<00:00, 1033.56it/s]\n"
     ]
    },
    {
     "name": "stdout",
     "output_type": "stream",
     "text": [
      "average epoch loss: 0.001409\n",
      "average epoch accuracy: 9.294000 %\n",
      "-------------------------\n",
      "epoch 94/101\n"
     ]
    },
    {
     "name": "stderr",
     "output_type": "stream",
     "text": [
      "100%|██████████| 782/782 [00:00<00:00, 1020.27it/s]\n"
     ]
    },
    {
     "name": "stdout",
     "output_type": "stream",
     "text": [
      "average epoch loss: 0.001409\n",
      "average epoch accuracy: 9.298000 %\n",
      "-------------------------\n",
      "epoch 95/101\n"
     ]
    },
    {
     "name": "stderr",
     "output_type": "stream",
     "text": [
      "100%|██████████| 782/782 [00:00<00:00, 1040.82it/s]\n"
     ]
    },
    {
     "name": "stdout",
     "output_type": "stream",
     "text": [
      "average epoch loss: 0.001409\n",
      "average epoch accuracy: 9.300000 %\n",
      "-------------------------\n",
      "epoch 96/101\n"
     ]
    },
    {
     "name": "stderr",
     "output_type": "stream",
     "text": [
      "100%|██████████| 782/782 [00:00<00:00, 973.11it/s] \n"
     ]
    },
    {
     "name": "stdout",
     "output_type": "stream",
     "text": [
      "average epoch loss: 0.001409\n",
      "average epoch accuracy: 9.300000 %\n",
      "-------------------------\n",
      "epoch 97/101\n"
     ]
    },
    {
     "name": "stderr",
     "output_type": "stream",
     "text": [
      "100%|██████████| 782/782 [00:00<00:00, 969.12it/s] \n"
     ]
    },
    {
     "name": "stdout",
     "output_type": "stream",
     "text": [
      "average epoch loss: 0.001409\n",
      "average epoch accuracy: 9.294000 %\n",
      "-------------------------\n",
      "epoch 98/101\n"
     ]
    },
    {
     "name": "stderr",
     "output_type": "stream",
     "text": [
      "100%|██████████| 782/782 [00:00<00:00, 929.27it/s] \n"
     ]
    },
    {
     "name": "stdout",
     "output_type": "stream",
     "text": [
      "average epoch loss: 0.001409\n",
      "average epoch accuracy: 9.284000 %\n",
      "-------------------------\n",
      "epoch 99/101\n"
     ]
    },
    {
     "name": "stderr",
     "output_type": "stream",
     "text": [
      "100%|██████████| 782/782 [00:00<00:00, 992.73it/s] \n"
     ]
    },
    {
     "name": "stdout",
     "output_type": "stream",
     "text": [
      "average epoch loss: 0.001409\n",
      "average epoch accuracy: 9.280000 %\n",
      "-------------------------\n",
      "Training complete in 1m 34s\n"
     ]
    },
    {
     "data": {
      "image/png": "[encoded data removed]",
      "text/plain": [
       "<Figure size 640x480 with 1 Axes>"
      ]
     },
     "metadata": {},
     "output_type": "display_data"
    },
    {
     "data": {
      "image/png": "[encoded data removed]",
      "text/plain": [
       "<Figure size 640x480 with 1 Axes>"
      ]
     },
     "metadata": {},
     "output_type": "display_data"
    }
   ],
   "source": [
    "featLength = 2+5+2\n",
    "# Initilaizing the model\n",
    "model = perceptron(featLength).to(device)\n",
    "criterion = nn.MSELoss() \n",
    "model = train_model(model,criterion,num_epochs=100,learning_rate=1) # Training the model"
   ]
  },
  {
   "cell_type": "code",
   "execution_count": null,
   "metadata": {},
   "outputs": [],
   "source": []
  }
 ],
 "metadata": {
  "kernelspec": {
   "display_name": "dlvc",
   "language": "python",
   "name": "python3"
  },
  "language_info": {
   "codemirror_mode": {
    "name": "ipython",
    "version": 3
   },
   "file_extension": ".py",
   "mimetype": "text/x-python",
   "name": "python",
   "nbconvert_exporter": "python",
   "pygments_lexer": "ipython3",
   "version": "3.11.11"
  }
 },
 "nbformat": 4,
 "nbformat_minor": 2
}
